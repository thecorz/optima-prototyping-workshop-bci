{
 "cells": [
  {
   "cell_type": "code",
   "execution_count": 1,
   "metadata": {},
   "outputs": [
    {
     "name": "stdout",
     "output_type": "stream",
     "text": [
      "50 files with diverse lab codes have been copied to G:\\...\\TCGA\\Scans_pooled\\Selected_50_Patients.\n"
     ]
    }
   ],
   "source": [
    "import os\n",
    "import random\n",
    "import shutil\n",
    "from collections import defaultdict\n",
    "\n",
    "# Define paths\n",
    "source_dir = r'G:\\Cancer & Inflammation\\VSM\\Oscar\\CLAUDE_FIELD CANCERIZATION\\TCGA\\Scans_pooled'\n",
    "destination_dir = os.path.join(source_dir, 'Selected_50_Patients')\n",
    "num_samples = 50\n",
    "\n",
    "# Map to store patients grouped by their lab (SS) codes\n",
    "lab_patient_map = defaultdict(list)\n",
    "\n",
    "# Parse filenames to group patients by lab codes\n",
    "for file_name in os.listdir(source_dir):\n",
    "    if file_name.endswith('.svs'):  # Replace with actual file extension if different\n",
    "        parts = file_name.split('-')\n",
    "        lab_code = parts[1]  # `SS` code\n",
    "        patient_id = parts[2]  # Patient identifier\n",
    "        \n",
    "        # Add filename to the lab-specific patient map\n",
    "        lab_patient_map[lab_code].append(file_name)\n",
    "\n",
    "# Create a diverse selection of patients across labs\n",
    "selected_files = []\n",
    "for lab_code, files in lab_patient_map.items():\n",
    "    # Randomly select a few patients from each lab\n",
    "    num_lab_samples = max(1, num_samples // len(lab_patient_map))\n",
    "    selected_files += random.sample(files, min(num_lab_samples, len(files)))\n",
    "\n",
    "# Adjust the selection if fewer than `num_samples` files have been selected\n",
    "if len(selected_files) < num_samples:\n",
    "    additional_files = [file for files in lab_patient_map.values() for file in files if file not in selected_files]\n",
    "    selected_files += random.sample(additional_files, num_samples - len(selected_files))\n",
    "\n",
    "# Copy selected files to the new subfolder in the source directory\n",
    "os.makedirs(destination_dir, exist_ok=True)\n",
    "for file_name in selected_files:\n",
    "    src_path = os.path.join(source_dir, file_name)\n",
    "    dest_path = os.path.join(destination_dir, file_name)\n",
    "    shutil.copy(src_path, dest_path)\n",
    "\n",
    "print(f'{num_samples} files with diverse lab codes have been copied to {destination_dir}.')\n"
   ]
  }
 ],
 "metadata": {
  "kernelspec": {
   "display_name": "Python 3",
   "language": "python",
   "name": "python3"
  },
  "language_info": {
   "codemirror_mode": {
    "name": "ipython",
    "version": 3
   },
   "file_extension": ".py",
   "mimetype": "text/x-python",
   "name": "python",
   "nbconvert_exporter": "python",
   "pygments_lexer": "ipython3",
   "version": "3.12.4"
  }
 },
 "nbformat": 4,
 "nbformat_minor": 2
}
